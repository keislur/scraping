{
 "cells": [
  {
   "attachments": {},
   "cell_type": "markdown",
   "metadata": {},
   "source": [
    "# Import Library"
   ]
  },
  {
   "cell_type": "code",
   "execution_count": 133,
   "metadata": {},
   "outputs": [],
   "source": [
    "# Import Library\n",
    "from selenium import webdriver\n",
    "from bs4 import BeautifulSoup\n",
    "from selenium.common.exceptions import TimeoutException\n",
    "from selenium.webdriver.common.by import By\n",
    "from selenium.webdriver.chrome.options import Options\n",
    "import time\n",
    "\n",
    "import pandas as pd"
   ]
  },
  {
   "attachments": {},
   "cell_type": "markdown",
   "metadata": {},
   "source": [
    "### Kata kunci"
   ]
  },
  {
   "cell_type": "code",
   "execution_count": 134,
   "metadata": {},
   "outputs": [],
   "source": [
    "# Kata Kunci\n",
    "katakunci = input('Masukkan kata kunci : ')"
   ]
  },
  {
   "attachments": {},
   "cell_type": "markdown",
   "metadata": {},
   "source": [
    "### Open Selenium Browser"
   ]
  },
  {
   "cell_type": "code",
   "execution_count": 135,
   "metadata": {},
   "outputs": [],
   "source": [
    "# Get Selenium Browser\n",
    "chrome_options = Options()\n",
    "# chrome_options.add_argument('--headless')\n",
    "chrome_options.add_argument('log-level=2')\n",
    "driver = webdriver.Chrome(options=chrome_options)"
   ]
  },
  {
   "attachments": {},
   "cell_type": "markdown",
   "metadata": {},
   "source": [
    "### Search Method sesuai Kata Kunci"
   ]
  },
  {
   "cell_type": "code",
   "execution_count": 136,
   "metadata": {},
   "outputs": [],
   "source": [
    "# Get Link\n",
    "def search(katakunci):\n",
    "    url = 'https://shopee.co.id/search?keyword=' + katakunci\n",
    "    links = []\n",
    "    try:\n",
    "        driver.get(url)\n",
    "        time.sleep(10)\n",
    "        driver.execute_script('window.scrollTo(0, 1000);')\n",
    "        time.sleep(5)\n",
    "        driver.execute_script('window.scrollTo(1000, 2000);')\n",
    "        time.sleep(5)\n",
    "        driver.execute_script('window.scrollTo(2000, 3000);')\n",
    "        time.sleep(5)\n",
    "        driver.execute_script('window.scrollTo(3000, 4000);')\n",
    "        time.sleep(5)\n",
    "        driver.execute_script('window.scrollTo(4000, 5000);')\n",
    "        time.sleep(5)\n",
    "        driver.execute_script('window.scrollTo(5000, 6000);')\n",
    "        time.sleep(5)\n",
    "        soup = BeautifulSoup(driver.page_source, 'html.parser')\n",
    "        items = soup.find_all('div', {'class' : 'col-xs-2-4 shopee-search-item-result__item'})\n",
    "        for item in items:\n",
    "            link_elem = item.find('a', {'data-sqe' : 'link'})\n",
    "            if link_elem:\n",
    "                link = link_elem.get('href')\n",
    "                links.append(link)\n",
    "    except TimeoutException:\n",
    "        print('failed to get links with query')\n",
    "    return links"
   ]
  },
  {
   "attachments": {},
   "cell_type": "markdown",
   "metadata": {},
   "source": [
    "### Method Scraping Data"
   ]
  },
  {
   "cell_type": "code",
   "execution_count": 137,
   "metadata": {},
   "outputs": [],
   "source": [
    "# Get Product Detail\n",
    "scraped = []\n",
    "def get_product(produt_url):\n",
    "    try:\n",
    "        url = 'https://shopee.co.id' + produt_url\n",
    "        driver.get(url)\n",
    "        time.sleep(5)\n",
    "        \n",
    "        soup_b = BeautifulSoup(driver.page_source, 'html.parser')\n",
    "\n",
    "        item_id = soup_b.find('meta', {'property': 'og:url'}).get('content').split('.')[-2]\n",
    "        id_produk = item_id if item_id is not None else 'ID tidak ditemukan'\n",
    "\n",
    "        nama_tag = soup_b.find('div', class_='_44qnta').find('span')\n",
    "        nama = nama_tag.text if nama_tag is not None else 'Nama tidak ditemukan'\n",
    "        \n",
    "        harga_tag = soup_b.find('div', class_='pqTWkA')\n",
    "        harga = harga_tag.text if harga_tag is not None else '0'\n",
    "        \n",
    "        rating_tag = soup_b.find('div', class_='_1k47d8 _046PXf')\n",
    "        rating = rating_tag.text if rating_tag is not None else '0'\n",
    "        \n",
    "        terjual_tag = soup_b.find('div', class_='P3CdcB')\n",
    "        terjual = terjual_tag.text if terjual_tag is not None else '0'\n",
    "        \n",
    "        driver.execute_script('window.scrollTo(0, 1500);')\n",
    "        time.sleep(5)\n",
    "        \n",
    "        penjual_tag = soup_b.find('div', class_='VlDReK')\n",
    "        penjual = penjual_tag.text if penjual_tag is not None else 'Penjual tidak ditemukan'\n",
    "        \n",
    "        label = soup_b.find('label', text='Dikirim Dari').find_next_sibling().text.strip()\n",
    "        lokasi = label if label is not None else 'Lokasi tidak ditemukan'\n",
    "\n",
    "        desc_tag = soup_b.find('p', class_='irIKAp')\n",
    "        desc = desc_tag.text if desc_tag is not None else 'Deskripsi tidak ditemukan'\n",
    "\n",
    "        rating_overview = soup_b.find_all('div', class_='product-rating-overview__filter')\n",
    "        rating_5 = rating_overview[1].text.split()[2][1:-1]\n",
    "        rating_4 = rating_overview[2].text.split()[2][1:-1]\n",
    "        rating_3 = rating_overview[3].text.split()[2][1:-1]\n",
    "        rating_2 = rating_overview[4].text.split()[2][1:-1]\n",
    "        rating_1 = rating_overview[5].text.split()[2][1:-1]\n",
    "        \n",
    "        print('Scraping ' + id_produk,' - ', nama)\n",
    "        data_scraped = {\n",
    "            'kode' : id_produk,\n",
    "            'nama' : nama, \n",
    "            'harga' : harga, \n",
    "            'deskripsi' : desc, \n",
    "            'penjual' : penjual,\n",
    "            'lokasi' : lokasi,\n",
    "            'rating' : rating,\n",
    "            'rating_5' : rating_5,\n",
    "            'rating_4' : rating_4,\n",
    "            'rating_3' : rating_3,\n",
    "            'rating_2' : rating_2,\n",
    "            'rating_1' : rating_1,\n",
    "            'Terjual' : terjual\n",
    "            }\n",
    "        scraped.append(data_scraped)\n",
    "    except TimeoutException:\n",
    "        print('cant open the link')"
   ]
  },
  {
   "cell_type": "code",
   "execution_count": 139,
   "metadata": {},
   "outputs": [
    {
     "name": "stdout",
     "output_type": "stream",
     "text": [
      "Scraping 339575556  -  Korset Melahirkan Pants Infrared 3in1 Korset Pelangsing Pengecil Perut Buncit Pakaian Dalam Wanita\n",
      "Scraping 842867812  -  Kaos Distro bahan combed 24s pria wanita anak Panda Sekolah ori by RAINBOW PANDA\n",
      "Scraping 47241027  -  Seragam Paskibraka Paskibra Lengkap\n",
      "Scraping 848135372  -  KAOS WANITA/BAJU CEWEK OVERSIZE KINDNESS MATTERS KAOS BAJU CEWEK KEKINIAN MURAH ATASAN WANITA KATUN (COD)\n",
      "Scraping 526260429  -  K-MAN CELANA DALAM MAGNET TERAPI VITALITAS PRIA K MAN ORIGINAL KLINK\n",
      "Scraping 153778078  -  Gamis Dress Busui Katun Rayon Motif Original by Moela [Mone Balmi Marin Zelia Ofcia Blisa Mily Luasi Biloa Mirvi Nalin Rolis Rosci Hinsy Vicia Lavia Beira Sirca Minse Racia Miva]\n",
      "Scraping 39111161  -  Grosir Solo Gamis Midi Dress Linen Tali Pinggang Hazzel\n",
      "Scraping 259918782  -  Alinka dress cringkle airflow gamis wanita\n",
      "Scraping 45229875  -  Hijabwanitacantik - Saqi Dress SQ26.2 Grey | Dress Printing Exclusive | Gamis Pakaian Muslim\n",
      "Scraping 358383278  -  Gamis Terbaru Lebaran 2023 Dress Crinkle Premium Gisella Polos Simple Elegan Mewah\n",
      "Scraping 49636060  -  Langkar Dress | Zysku Xena | Gamis Muslimah Print Busui Friendly\n",
      "Scraping 283378929  -  DRESS RAYON PREMIUM | GAMIS KATUN RAYON VISCOSE | DRESS BUSUI | HOMEY DRESS\n",
      "Scraping 311727668  -  Melika - Midi Dress/ Daster/Tunik Bahan Rayon Ala Korea\n",
      "Scraping 219115580  -  Titan Maxi | Fashion Muslim Gamis OOTD Casual Remaja Kekinian | Gamis Polos Dewasa Terbaru\n",
      "Scraping 2005958  -  Silvervogue - SV 3951 - Nabilla Set Dress | Pakaian Wanita\n",
      "Scraping 373881009  -  GAMIS SERUT SATIN | DRESS SERUT KONDANGAN BRIDESMAID\n",
      "Scraping 35950687  -  Pamelo Cod Daster singlet Import 20corak Fashion Wanita baju import Sexy Daster Tali satu import\n",
      "Scraping 356336260  -  Dress Wanita CLARISSA MIDI DRESS Bahan Katun Salur Gamis Muslim Termurah / Dress Terlaris / Baju Dress Casual Trendy / Dress Terbaru / COD\n",
      "Scraping 290514325  -  L dress lace katun dauky gamis dauky\n",
      "Scraping 48270519  -  RIRA TUNIK CRINKLE\n",
      "Scraping 379865608  -  GAMIS SYARI FUJI DRESS VELVET POLOS MAKSI BUSANA MUSLIM LEBARAN\n",
      "Scraping 6474527  -  GAMIS LEBARAN BRUKAT TANGAN BALON ORGANZA CLARISA MEWAH MUSLIMAH ACARA PESTA GROSIR MURAH MODELLANO\n",
      "Scraping 103099290  -  GAMIS BASIC  / GAMIS RAYON POLOS / GAMIS PLAIN SUSUN / GAMIS CANDA / GAMIS HITAM POLOS\n",
      "Scraping 82269285  -  Shafira Gianna Dress | Gamis Pakaian Muslim Wanita | Dusty Pink and Mustard\n",
      "Scraping 79514129  -  COWBOYS SWEATER - CREWNECK SWEATER WANITA - PAKAIAN WANITA TERLARIS\n",
      "Scraping 11568807  -  NEW SALE❣️Briana Tunic Ria Miranda Lawas Sesion\n",
      "Scraping 67865737  -  Setelan Gamis Ikatan cinta sage mint/Pakaian muslim gamis sage green/Gamis sage mint\n",
      "Scraping 370050235  -  DASTER KIMONO BUSUI FRIENDLY BAJU TIDUR  WANITA KEKINIAN VIRAL\n",
      "Scraping 23160506  -  baju murah  jimat tunik\n",
      "Scraping 752641659  -  HAEV! T-shirt Oversize - Humanity T-shirt/kaos/pakaian\n",
      "Scraping 688079440  -  Tunik Kotak Wanita Beautyfashion Model Korean Style Terbaru Kekinian\n",
      "Scraping 391096308  -  RH Col Bambo Dress Silk New ( gamis terbaru lebaran )\n",
      "Scraping 288972739  -  Satin dress / Gamis Satin Murah [READY STOCK]\n",
      "Scraping 114046259  -  Tunik Jumbo Kekinian Terbaru 2021 Atasan Wanita Muslim Big Size (FREE MASKER) XL XXL XXXL 4L 5L ld 110 120 130 140 150 Model Heso Bahan Rayon Premium Baju Modern Lebaran 2022 Viral Dewasa Ibu Ibu\n",
      "Scraping 27852538  -  IZANY Piyama Dewasa Kotak / Karakter Cp allsize LD 104 Saten apple\n",
      "Scraping 348884656  -  Mutia  Dress Jumbo Viral Mewah Terbaru 2022 Gamis Casual Kekinian\n",
      "Scraping 301000442  -  FULLSET GEISHA 70750 Dress + Outer + Obi Titanium Scuba dress muslim prewedding wisuda bridesmaid\n",
      "Scraping 823638388  -  KAOS PLURALISME VOL4 KAOS DISTRO PAKAIAN PRIA\n",
      "Scraping 203302636  -  FARANISYA Dress - Baju Hari Raya Lebaran 2023 - Seragam Pesta Kondangan - Gamis Tille Mewah - Pakaian Kekinian - Tanahabang Collection Terbaru\n",
      "Scraping 338588755  -  habsy // zalina abaya gamis original mieux gamis lebaran turkey mega store aleyna\n",
      "Scraping 6053166  -  ADIBA - Rissa Dress/ Gamis Terbaru 2021 / Dress Muslim Kondangan Ada Size S M L XL\n",
      "Scraping 89754915  -  COUNTIA TUNIK RAYON\n",
      "Scraping 322507710  -  Lalucuku Model Baju Wanita Dress/ Gamis Sabrina Homey Catton Rayon\n",
      "Scraping 230920163  -  PIYAMA RAYON | PIYAMA KANCING HITS | BAJU TIDUR | HOMEWEAR\n",
      "Scraping 60985719  -  Oriana Daster Pendek Collection\n",
      "Scraping 21992690  -  COUPLE GAMIS LUNA DRESS MODERN BAJU SYARI BUSANA MUSLIM SARIMBIT RAMADHAN KONDANGAN BAJU PASANGAN BATIK GAMIS TERBARU KEKINIAN JUMBO AKITA AKT\n",
      "Scraping 137376785  -  SET DRESS + KIMONO 2IN1 BEST SELLER\n",
      "Scraping 242288679  -  GAMIS SYIFA CRINKLE AIRFLOW | GAMIS TERBARU LEBARAN 2023 | GAMIS | baju gamis lebaran 2023 mewah gamis syari terbaru 2023 baju lebaran terbaru 2023 mewah\n",
      "Scraping 29254490  -  READY PENGIRIMAN 28 APRIL JENAR SERIES (ALL COLOR) blouse batik viscose\n",
      "Scraping 143078497  -  baju brukat terbaru 2022 brukat kekinian modern cantik simple elegan PARAMITHA dress/ dress terbaru / baju kondangan / gamis terbaru 2022\n",
      "Scraping 12538990  -  Mybamus Nadir Pocket Overall Dress - Gamis Jumpsuit Muslim\n",
      "Scraping 52202583  -  Ashley Kaftan // snw // dress lebaran gamis couple // kaftan couple\n",
      "Scraping 302074147  -  FLOWEAR Alea Long Dress Gamis Baju Kondangan Remaja Wanita Muslim Terbaru\n",
      "Scraping 322170169  -  KOREAN MAXI DRESS PAKAIAN WANITA ELEGANT BUSUI FRIENDLY BAJU BUMIL RAYON PREMIUM ADEM TIDAK NERAWANG\n",
      "Scraping 11618596  -  KULOT CRINKLE KANCING 2 HIGHWAIST PREMIUM | KULOT KRINGKEL AIRFLOW | CELANA KEKINIAN BEST SELLER\n",
      "Scraping 116935139  -  Kemeja Custom Pria / Wanita Lengan Panjang Tersedia Pilihan Bahan Berkualitas dan Termurah\n",
      "Scraping 34613193  -  PREMIUM Baju renang muslim syar'i dewasa/ pakaian renang perempuan muslimah terlaris/swimsuit wanita\n",
      "Scraping 962554213  -  Zafina Dress Cringkel Airflow Niami Midi Dress Remaja Gamis Polos Terbaru Busana Muslim Lebaran Murah Lebay Best Seller Bisa Cod\n",
      "Scraping 188418345  -  [F01] IKAT PINGGANG TALI PINGGANG BELT SABUK PERAPI PAKAIAN FLEXGESPER\n",
      "Scraping 14545902  -  BIGSIZE BAJU FASHION BANGKOK UPDATE GENTLE MONSTER NEW\n"
     ]
    }
   ],
   "source": [
    "products_urls = search(katakunci)\n",
    "\n",
    "for product_url in products_urls:\n",
    "    get_product(product_url)\n",
    "\n",
    "driver.quit()"
   ]
  },
  {
   "attachments": {},
   "cell_type": "markdown",
   "metadata": {},
   "source": [
    "# Make to scrap_data.csv"
   ]
  },
  {
   "cell_type": "code",
   "execution_count": 140,
   "metadata": {},
   "outputs": [],
   "source": [
    "df1 = pd.DataFrame(scraped)\n",
    "df1 = df1.to_csv('scrap_data.csv', index = False)"
   ]
  }
 ],
 "metadata": {
  "kernelspec": {
   "display_name": "Python 3",
   "language": "python",
   "name": "python3"
  },
  "language_info": {
   "codemirror_mode": {
    "name": "ipython",
    "version": 3
   },
   "file_extension": ".py",
   "mimetype": "text/x-python",
   "name": "python",
   "nbconvert_exporter": "python",
   "pygments_lexer": "ipython3",
   "version": "3.11.0"
  },
  "orig_nbformat": 4
 },
 "nbformat": 4,
 "nbformat_minor": 2
}
